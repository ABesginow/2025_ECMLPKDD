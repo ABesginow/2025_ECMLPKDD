{
 "cells": [
  {
   "cell_type": "code",
   "execution_count": null,
   "id": "b2ce9499",
   "metadata": {},
   "outputs": [],
   "source": [
    "from helpers.util_functions import central_difference\n",
    "from lodegp.LODEGP import LODEGP\n",
    "import torch\n",
    "import gpytorch\n"
   ]
  },
  {
   "cell_type": "code",
   "execution_count": null,
   "id": "cbcbb768",
   "metadata": {},
   "outputs": [],
   "source": [
    "train_x = torch.linspace(0r, 1r, 1r)\n",
    "train_y = torch.linspace(0r, 1r, 1r)\n",
    "likelihood = gpytorch.likelihoods.MultitaskGaussianLikelihood(num_tasks=3r)\n",
    "model = LODEGP(train_x, train_y, ODE_name=\"Heating\", likelihood=likelihood, num_tasks=3r)\n"
   ]
  },
  {
   "cell_type": "code",
   "execution_count": null,
   "id": "d3ac8416",
   "metadata": {},
   "outputs": [],
   "source": [
    "model.sage_locals"
   ]
  },
  {
   "cell_type": "code",
   "execution_count": null,
   "id": "b508ca4f",
   "metadata": {},
   "outputs": [],
   "source": [
    "def extract_differential_polynomial_terms(expr, diff_var, var_dict):\n",
    "    \"\"\"\n",
    "    Parses a polynomial expression in the differential operator variable (e.g., x),\n",
    "    and returns a dict mapping derivative order to coefficient.\n",
    "\n",
    "    Parameters:\n",
    "    - expr: Sage symbolic expression (e.g., x^2 + 981/100)\n",
    "    - diff_var: the Sage variable representing the differential operator (e.g., x)\n",
    "\n",
    "    Returns:\n",
    "    - dict: {order: coefficient}  (e.g., {0: 981/100, 2: 1})\n",
    "    \"\"\"\n",
    "    expr = sage_eval(str(expr), locals=var_dict)\n",
    "    if type(expr) is not sage.symbolic.expression.Expression:\n",
    "        return {0: expr}\n",
    "    terms = expr.coefficients(diff_var)\n",
    "    result = {}\n",
    "\n",
    "    for term in terms:\n",
    "        # each term is a tuple [coefficient, degree]\n",
    "        coeff = term[0]\n",
    "        degree = term[1]\n",
    "        result[degree] = coeff\n",
    "\n",
    "    return result\n"
   ]
  },
  {
   "cell_type": "code",
   "execution_count": null,
   "id": "dc48982b",
   "metadata": {},
   "outputs": [],
   "source": [
    "# Verify that the functions satisfy the given differential equation\n",
    "def calculate_differential_equation_error_symbolic(functions, differential_eq, sage_locals, **kwargs):\n",
    "    # We know we that the channel count is equal to the number of tasks\n",
    "    dx = kwargs.get(\"diff_var\", var(\"x\"))\n",
    "    differential_equation_error = 0\n",
    "    for i, column in enumerate(differential_eq):\n",
    "        # Each channel contains the polynom of differentials that is used on the respective channel\n",
    "        # Dictionary of the form {order: coeff}\n",
    "        coeff_dict = extract_differential_polynomial_terms(column, dx, sage_locals)\n",
    "        for order, coeff in coeff_dict.items():\n",
    "            differential_equation_error += coeff*functions[i].diff(dx, int(order))\n",
    "    return differential_equation_error\n",
    "\n",
    "# Verify that the given data satisfies the given differential equation\n",
    "def calculate_differential_equation_error_numeric(differential_eq, sage_locals, data_generating_functions, **kwargs):\n",
    "    dx = kwargs.get(\"diff_var\", var(\"x\"))\n",
    "    # We know we that the channel count is equal to the number of tasks\n",
    "    channel_values = [[] for _ in range(len(differential_eq))]\n",
    "    for column in differential_eq:\n",
    "        # Each channel contains the polynom of differentials that is used on the respective channel\n",
    "        # Dictionary of the form {order: coeff}\n",
    "        coeff_dict = extract_differential_polynomial_terms(column, dx, sage_locals)\n",
    "\n",
    "\n",
    "        pass\n",
    "    pass\n",
    "\n",
    "\n",
    "\n",
    "# Verify that the models output satisfies the given differential equation\n",
    "target_row = 0\n",
    "target_col = 0\n",
    "model_mean_generator = lambda x: model(x).mean\n",
    "calculate_differential_equation_error_numeric(model.A[target_row], model.sage_locals, model_mean_generator)\n",
    "\n",
    "# Verify that the symbolic covariance functions satisfy the given differential equation\n",
    "model_diffed_kernel_col = [model.diffed_kernel[i][target_col] for i in range(len(model.diffed_kernel))]\n",
    "diff_var = var(\"t1\")\n",
    "var(\"x\")\n",
    "differential_equation = [term.substitute(x=diff_var) for term in sage_eval(str(model.A[target_row]), locals=model.sage_locals)]\n",
    "calculate_differential_equation_error_symbolic(model_diffed_kernel_col, differential_equation, model.sage_locals, diff_var=diff_var)(t1=1, t2=1, signal_variance_2=1.0, lengthscale_2=1.0, a=1.0, b=1.0)"
   ]
  },
  {
   "cell_type": "code",
   "execution_count": null,
   "id": "9f877cc1",
   "metadata": {},
   "outputs": [],
   "source": [
    "model = LODEGP(train_x, train_y, ODE_name=\"Bipendulum\", likelihood=likelihood, num_tasks=3r)\n",
    "var(\"x\")\n",
    "for row in model.A:\n",
    "    for column in row:\n",
    "        print(column)\n",
    "        print(extract_differential_polynomial_terms(column, x, model.sage_locals))"
   ]
  }
 ],
 "metadata": {
  "kernelspec": {
   "display_name": "SageMath 10.5",
   "language": "sage",
   "name": "sagemath"
  },
  "language_info": {
   "codemirror_mode": {
    "name": "ipython",
    "version": 3
   },
   "file_extension": ".py",
   "mimetype": "text/x-python",
   "name": "python",
   "nbconvert_exporter": "python",
   "pygments_lexer": "ipython3",
   "version": "3.12.9"
  }
 },
 "nbformat": 4,
 "nbformat_minor": 5
}
