{
 "cells": [
  {
   "cell_type": "code",
   "execution_count": null,
   "id": "b2ce9499",
   "metadata": {},
   "outputs": [],
   "source": [
    "from helpers.util_functions import central_difference\n",
    "from lodegp.LODEGP import LODEGP\n",
    "import torch\n",
    "import gpytorch\n"
   ]
  },
  {
   "cell_type": "code",
   "execution_count": null,
   "id": "cbcbb768",
   "metadata": {},
   "outputs": [],
   "source": [
    "train_x = torch.linspace(0r, 1r, 1r)\n",
    "train_y = torch.linspace(0r, 1r, 1r)\n",
    "likelihood = gpytorch.likelihoods.MultitaskGaussianLikelihood(num_tasks=3r)\n",
    "model = LODEGP(train_x, train_y, ODE_name=\"Heating\", likelihood=likelihood, num_tasks=3r)\n"
   ]
  },
  {
   "cell_type": "code",
   "execution_count": null,
   "id": "d3ac8416",
   "metadata": {},
   "outputs": [],
   "source": [
    "model.sage_locals"
   ]
  },
  {
   "cell_type": "code",
   "execution_count": null,
   "id": "b508ca4f",
   "metadata": {},
   "outputs": [],
   "source": [
    "def extract_differential_polynomial_terms(expr, diff_var, var_dict):\n",
    "    \"\"\"\n",
    "    Parses a polynomial expression in the differential operator variable (e.g., x),\n",
    "    and returns a dict mapping derivative order to coefficient.\n",
    "\n",
    "    Parameters:\n",
    "    - expr: Sage symbolic expression (e.g., x^2 + 981/100)\n",
    "    - diff_var: the Sage variable representing the differential operator (e.g., x)\n",
    "\n",
    "    Returns:\n",
    "    - dict: {order: coefficient}  (e.g., {0: 981/100, 2: 1})\n",
    "    \"\"\"\n",
    "    expr = sage_eval(str(expr), locals=var_dict)\n",
    "    if type(expr) is not sage.symbolic.expression.Expression:\n",
    "        return {0: expr}\n",
    "    terms = expr.operands() if expr.operator() is not None else [expr]\n",
    "    result = {}\n",
    "\n",
    "    for term in terms:\n",
    "        # Case: constant (no diff_var)\n",
    "        if diff_var not in term.variables():\n",
    "            result[0] = result.get(0, 0) + term\n",
    "\n",
    "        # Case: linear or power in diff_var\n",
    "        else:\n",
    "            coeff = term.coefficient(diff_var)\n",
    "            if coeff == 0:\n",
    "                coeff = 1\n",
    "            degree = term.degree(diff_var)\n",
    "            result[degree] = result.get(degree, 0) + coeff\n",
    "\n",
    "    return result\n"
   ]
  },
  {
   "cell_type": "code",
   "execution_count": null,
   "id": "dc48982b",
   "metadata": {},
   "outputs": [],
   "source": [
    "def check_differential_equation(model, differential_eq, X_test):\n",
    "    # We know we that the channel count is equal to the number of tasks\n",
    "    channel_values = [[] for _ in range(model.num_tasks)]\n",
    "    for column in differential_eq:\n",
    "        # Each channel contains the polynom of differentials that is used on the respective channel\n",
    "        pass\n",
    "    pass"
   ]
  },
  {
   "cell_type": "code",
   "execution_count": null,
   "id": "a52ed67c",
   "metadata": {},
   "outputs": [],
   "source": []
  },
  {
   "cell_type": "code",
   "execution_count": null,
   "id": "9f877cc1",
   "metadata": {},
   "outputs": [],
   "source": [
    "model = LODEGP(train_x, train_y, ODE_name=\"Heating\", likelihood=likelihood, num_tasks=3r)\n",
    "var(\"x\")\n",
    "for row in model.A:\n",
    "    for column in row:\n",
    "        print(column)\n",
    "        print(extract_differential_polynomial_terms(column, x, model.sage_locals))"
   ]
  }
 ],
 "metadata": {
  "kernelspec": {
   "display_name": "SageMath 10.5",
   "language": "sage",
   "name": "sagemath"
  },
  "language_info": {
   "codemirror_mode": {
    "name": "ipython",
    "version": 3
   },
   "file_extension": ".py",
   "mimetype": "text/x-python",
   "name": "python",
   "nbconvert_exporter": "python",
   "pygments_lexer": "ipython3",
   "version": "3.12.9"
  }
 },
 "nbformat": 4,
 "nbformat_minor": 5
}
