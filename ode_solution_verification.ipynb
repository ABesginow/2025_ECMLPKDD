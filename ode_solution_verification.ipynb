{
 "cells": [
  {
   "cell_type": "code",
   "execution_count": null,
   "id": "b2ce9499",
   "metadata": {},
   "outputs": [],
   "source": [
    "from helpers.util_functions import central_difference\n",
    "from lodegp.LODEGP import LODEGP\n",
    "import torch\n",
    "import gpytorch\n"
   ]
  },
  {
   "cell_type": "code",
   "execution_count": null,
   "id": "2dc0a0e6",
   "metadata": {},
   "outputs": [],
   "source": [
    "train_x = torch.linspace(1r, 2r, 1r)\n",
    "noise_level = 0.0r\n",
    "y0_func = lambda x: float(781/8000)*torch.sin(x)/x - float(1/20)*torch.cos(x)/x**2 + float(1/20)*torch.sin(x)/x**3\n",
    "y1_func = lambda x: float(881/8000)*torch.sin(x)/x - float(1/40)*torch.cos(x)/x**2 + float(1/40)*torch.sin(x)/x**3\n",
    "y2_func = lambda x: float(688061/800000)*torch.sin(x)/x - float(2543/4000)*torch.cos(x)/x**2 + float(1743/4000)*torch.sin(x)/x**3 - float(3/5)*torch.cos(x)/x**4 + float(3/5)*torch.sin(x)/x**5 \n",
    "y0 = y0_func(train_x) \n",
    "y1 = y1_func(train_x)\n",
    "y2 = y2_func(train_x)\n",
    "y0 = y0 + torch.randn_like(train_x)*(torch.max(y0)*noise_level)\n",
    "y1 = y1 + torch.randn_like(train_x)*(torch.max(y1)*noise_level)\n",
    "y2 = y2 + torch.randn_like(train_x)*(torch.max(y2)*noise_level)\n",
    "train_y = torch.stack([y0, y1, y2], dim=-1r)\n",
    "\n"
   ]
  },
  {
   "cell_type": "code",
   "execution_count": null,
   "id": "cbcbb768",
   "metadata": {},
   "outputs": [],
   "source": [
    "likelihood = gpytorch.likelihoods.MultitaskGaussianLikelihood(num_tasks=3r)\n",
    "model = LODEGP(train_x, train_y, likelihood, 3, ODE_name=\"Heating\")\n",
    "\n"
   ]
  },
  {
   "cell_type": "code",
   "execution_count": null,
   "id": "b508ca4f",
   "metadata": {},
   "outputs": [],
   "source": [
    "def extract_differential_polynomial_terms(expr, diff_var, var_dict):\n",
    "    \"\"\"\n",
    "    Parses a polynomial expression in the differential operator variable (e.g., x),\n",
    "    and returns a dict mapping derivative order to coefficient.\n",
    "\n",
    "    Parameters:\n",
    "    - expr: Sage symbolic expression (e.g., x^2 + 981/100)\n",
    "    - diff_var: the Sage variable representing the differential operator (e.g., x)\n",
    "\n",
    "    Returns:\n",
    "    - dict: {order: coefficient}  (e.g., {0: 981/100, 2: 1})\n",
    "    \"\"\"\n",
    "    expr = sage_eval(str(expr), locals=var_dict)\n",
    "    if type(expr) is not sage.symbolic.expression.Expression:\n",
    "        return {0: expr}\n",
    "    terms = expr.coefficients(diff_var)\n",
    "    result = {}\n",
    "\n",
    "    for term in terms:\n",
    "        # each term is a tuple [coefficient, degree]\n",
    "        coeff = term[0]\n",
    "        degree = term[1]\n",
    "        result[degree] = coeff\n",
    "\n",
    "    return result\n"
   ]
  },
  {
   "cell_type": "code",
   "execution_count": null,
   "id": "ecba4027",
   "metadata": {},
   "outputs": [],
   "source": [
    "# Verify that the functions satisfy the given differential equation\n",
    "def calculate_differential_equation_error_symbolic(functions, differential_eq, sage_locals, **kwargs):\n",
    "    # We know we that the channel count is equal to the number of tasks\n",
    "    dx = kwargs.get(\"diff_var\", var(\"x\"))\n",
    "    differential_equation_error = 0\n",
    "    for i, column in enumerate(differential_eq):\n",
    "        # Each channel contains the polynom of differentials that is used on the respective channel\n",
    "        # Dictionary of the form {order: coeff}\n",
    "        coeff_dict = extract_differential_polynomial_terms(column, dx, sage_locals)\n",
    "        for order, coeff in coeff_dict.items():\n",
    "            differential_equation_error += coeff*functions[i].diff(dx, int(order))\n",
    "    return differential_equation_error\n"
   ]
  },
  {
   "cell_type": "code",
   "execution_count": null,
   "id": "dc48982b",
   "metadata": {},
   "outputs": [],
   "source": [
    "# Verify that the given data satisfies the given differential equation\n",
    "def calculate_differential_equation_error_numeric(differential_eq, sage_locals, data_generating_functions, data, **kwargs):\n",
    "    dx = kwargs.get(\"diff_var\", var(\"x\"))\n",
    "    locals_values = kwargs.get(\"locals_values\", {sage_locals[var_name] : 1.0 for var_name in sage_locals})\n",
    "    # We know we that the channel count is equal to the number of tasks\n",
    "    channel_values = [[] for _ in range(len(differential_eq))]\n",
    "    differential_equation_error = None \n",
    "    functions = data_generating_functions\n",
    "    for i, column in enumerate(differential_eq):\n",
    "        # Each channel contains the polynom of differentials that is used on the respective channel\n",
    "        # Dictionary of the form {order: coeff}\n",
    "        coeff_dict = extract_differential_polynomial_terms(column, dx, sage_locals)\n",
    "        for order, coeff in coeff_dict.items():\n",
    "            try:\n",
    "                coeff = coeff.subs(locals_values)\n",
    "                diff_approx = central_difference(functions, data, order=order)[:, i]\n",
    "                if differential_equation_error is None:\n",
    "                    differential_equation_error = float(coeff)*diff_approx\n",
    "                else:\n",
    "                    differential_equation_error += float(coeff)*diff_approx\n",
    "            except Exception as e:\n",
    "                print(coeff)\n",
    "                print(e)\n",
    "    return differential_equation_error\n",
    "\n",
    "\n",
    "# Verify that the models output satisfies the given differential equation\n",
    "target_row = 0\n",
    "target_col = 1\n",
    "model.eval()\n",
    "likelihood.eval()\n",
    "model_mean_generator = lambda x: model(x).mean\n",
    "#locals_values = {var(\"a\") : model.model_parameters[\"a\"].item(), var(\"b\") : model.model_parameters[\"b\"].item(), var(\"signal_variance_2\") : model.model_parameters[\"signal_variance_2\"].item(), var(\"lengthscale_2\") : model.model_parameters[\"lengthscale_2\"].item()}\n",
    "#locals_values = {name: torch.exp(torch.tensor(locals_values[name])).item() for name in locals_values}\n",
    "locals_values = model.prepare_numeric_ode_satisfaction_check()\n",
    "calculate_differential_equation_error_numeric(model.A[target_row], model.sage_locals, model_mean_generator, train_x, locals_values=locals_values)\n",
    "\n",
    "# Verify that the symbolic covariance functions satisfy the given differential equation\n",
    "model_diffed_kernel_col = model.prepare_symbolic_ode_satisfaction_check(target_col) \n",
    "diff_var = var(\"t1\")\n",
    "var(\"x\")\n",
    "differential_equation = [term.substitute(x=diff_var) for term in sage_eval(str(model.A[target_row]), locals=model.sage_locals)]\n",
    "calculate_differential_equation_error_symbolic(model_diffed_kernel_col, differential_equation, model.sage_locals, diff_var=diff_var)(t1=1, t2=1, signal_variance_2=1.0, lengthscale_2=1.0, a=1.0, b=1.0)"
   ]
  },
  {
   "cell_type": "code",
   "execution_count": null,
   "id": "29e9cf89",
   "metadata": {},
   "outputs": [],
   "source": [
    "model.model_parameters[\"a\"]"
   ]
  },
  {
   "cell_type": "code",
   "execution_count": null,
   "id": "ca99e0b0",
   "metadata": {},
   "outputs": [],
   "source": [
    "model.sage_locals"
   ]
  },
  {
   "cell_type": "code",
   "execution_count": null,
   "id": "9f877cc1",
   "metadata": {},
   "outputs": [],
   "source": [
    "model = LODEGP(train_x, train_y, ODE_name=\"Bipendulum\", likelihood=likelihood, num_tasks=3r)\n",
    "var(\"x\")\n",
    "for row in model.A:\n",
    "    for column in row:\n",
    "        print(column)\n",
    "        print(extract_differential_polynomial_terms(column, x, model.sage_locals))"
   ]
  }
 ],
 "metadata": {
  "kernelspec": {
   "display_name": "SageMath 10.5",
   "language": "sage",
   "name": "sagemath"
  },
  "language_info": {
   "codemirror_mode": {
    "name": "ipython",
    "version": 3
   },
   "file_extension": ".py",
   "mimetype": "text/x-python",
   "name": "python",
   "nbconvert_exporter": "python",
   "pygments_lexer": "ipython3",
   "version": "3.12.9"
  }
 },
 "nbformat": 4,
 "nbformat_minor": 5
}
