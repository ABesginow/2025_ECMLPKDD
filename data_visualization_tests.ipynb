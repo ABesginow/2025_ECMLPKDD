{
 "cells": [
  {
   "cell_type": "code",
   "execution_count": null,
   "id": "e6017a6a",
   "metadata": {},
   "outputs": [],
   "source": [
    "import gpytorch\n",
    "from LODEGP.LODEGP import LODEGP, list_standard_models\n",
    "from helpers.plotting_functions import plot_single_input_gp_posterior\n",
    "from helpers.training_functions import granso_optimization\n",
    "import matplotlib.pyplot as plt\n",
    "import numpy as np\n",
    "import torch\n",
    "\n"
   ]
  },
  {
   "cell_type": "code",
   "execution_count": null,
   "id": "4d055067",
   "metadata": {},
   "outputs": [],
   "source": [
    "list_standard_models()"
   ]
  },
  {
   "cell_type": "code",
   "execution_count": null,
   "id": "e2d759c5",
   "metadata": {},
   "outputs": [],
   "source": [
    "START = 2\n",
    "END = 12\n",
    "COUNT = 100\n",
    "train_x = torch.linspace(START, END, COUNT)\n",
    "likelihood = gpytorch.likelihoods.MultitaskGaussianLikelihood(num_tasks=3)\n",
    "\n",
    "y0_func = lambda x: float(781/8000)*torch.sin(x)/x - float(1/20)*torch.cos(x)/x**2 + float(1/20)*torch.sin(x)/x**3\n",
    "y1_func = lambda x: float(881/8000)*torch.sin(x)/x - float(1/40)*torch.cos(x)/x**2 + float(1/40)*torch.sin(x)/x**3\n",
    "y2_func = lambda x: float(688061/800000)*torch.sin(x)/x - float(2543/4000)*torch.cos(x)/x**2 + float(1743/4000)*torch.sin(x)/x**3 - float(3/5)*torch.cos(x)/x**4 + float(3/5)*torch.sin(x)/x**5 \n",
    "y0 = y0_func(train_x)\n",
    "y1 = y1_func(train_x)\n",
    "y2 = y2_func(train_x)\n",
    "train_y = torch.stack([y0, y1, y2], dim=1)\n",
    "\n",
    "\n",
    "model = LODEGP(train_x, train_y, likelihood, 3, ODE_name=\"Bipendulum\", verbose=True, system_parameters={\"l1\": 1.0, \"l2\": 2.0})"
   ]
  },
  {
   "cell_type": "code",
   "execution_count": null,
   "id": "da39a814",
   "metadata": {},
   "outputs": [],
   "source": [
    "loss_val, model, likelihood, log = granso_optimization(model, likelihood, train_x, train_y)"
   ]
  },
  {
   "cell_type": "code",
   "execution_count": null,
   "id": "9a4dc635",
   "metadata": {},
   "outputs": [],
   "source": [
    "model.eval()\n",
    "likelihood.eval()\n",
    "with torch.no_grad():\n",
    "    test_x = torch.linspace(3, 8, 10)\n",
    "    output = model(test_x)\n",
    "    pred_y = likelihood(output)\n",
    "print(output.mean)\n",
    "print(output.covariance_matrix.diag().reshape(-1, 3))\n",
    "print(pred_y.mean)\n",
    "print(pred_y.covariance_matrix.diag().reshape(-1, 3))\n",
    "\n",
    "print(\"====\")\n",
    "print(list(model.named_parameters()))"
   ]
  },
  {
   "cell_type": "code",
   "execution_count": null,
   "id": "67b672f6",
   "metadata": {},
   "outputs": [],
   "source": [
    "model_state_dict = model.state_dict()\n",
    "model_state_dict"
   ]
  },
  {
   "cell_type": "code",
   "execution_count": null,
   "id": "af795fed",
   "metadata": {},
   "outputs": [],
   "source": [
    "# Plot the posterior GP and the data\n",
    "model.eval()\n",
    "model.likelihood.eval()\n",
    "with torch.no_grad():\n",
    "    test_x = torch.linspace(4, 12, 100)\n",
    "    observed_pred = model.likelihood(model(test_x))\n",
    "    observed_pred_mean = observed_pred.mean\n",
    "    observed_pred_var = observed_pred.covariance_matrix.diag().reshape(-1, 3)\n",
    "    print(observed_pred_mean)\n",
    "    print(observed_pred_var)\n",
    "    plot_single_input_gp_posterior(train_x, train_y, test_x, observed_pred_mean, observed_pred_var, ncols=2)"
   ]
  }
 ],
 "metadata": {
  "kernelspec": {
   "display_name": "sage3_129",
   "language": "python",
   "name": "python3"
  },
  "language_info": {
   "codemirror_mode": {
    "name": "ipython",
    "version": 3
   },
   "file_extension": ".py",
   "mimetype": "text/x-python",
   "name": "python",
   "nbconvert_exporter": "python",
   "pygments_lexer": "ipython3",
   "version": "3.12.9"
  }
 },
 "nbformat": 4,
 "nbformat_minor": 5
}
