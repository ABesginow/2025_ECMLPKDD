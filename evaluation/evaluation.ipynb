{
 "cells": [
  {
   "cell_type": "code",
   "execution_count": 1,
   "id": "0ff3570f",
   "metadata": {},
   "outputs": [],
   "source": [
    "import dill"
   ]
  },
  {
   "cell_type": "markdown",
   "id": "cbb41dd6",
   "metadata": {},
   "source": [
    "#### Notes on file structure\n",
    "\n",
    "- results are stored in ../results/results\n",
    "- figures are stored in ../results/figures\n",
    "- folder structure is based on data (i.e. start/end point, number of datapoints and noise level)\n",
    "- file names are based on the actual model i.e. system name, l1 and l2 values \n",
    "- file names are separated by \"_\"\n",
    "- relevant results files are ...\n",
    "    - f\"{filename_addendum}_MLL.pkl\"\n",
    "    - f\"{filename_addendum}_MLL_logs.pkl\"\n",
    "    - f\"{filename_addendum}_MAP.pkl\"\n",
    "    - f\"{filename_addendum}_MAP_logs.pkl\"\n",
    "    - f\"{filename_addendum}_mean_ode_satisfaction_error_MLL.pkl\"\n",
    "    - f\"{filename_addendum}_mean_ode_satisfaction_error_MAP.pkl\"\n",
    "    - f\"{filename_addendum}_sample_ode_satisfaction_error_MLL.pkl\"\n",
    "    - f\"{filename_addendum}_sample_ode_satisfaction_error_MAP.pkl\"\n",
    "    - f\"{filename_addendum}_MLL_model_train_MSEs.pkl\"\n",
    "    - f\"{filename_addendum}_MAP_model_train_MSEs.pkl\"\n",
    "    - f\"{filename_addendum}_MLL_model_test_MSEs.pkl\"\n",
    "    - f\"{filename_addendum}_MAP_model_test_MSEs.pkl\"\n",
    "- relevant figure files are ...\n",
    "    - f\"MLL_model_posterior_{system_name}_l1-{l1_param_val}_l2-{l2_param_val}_{START}-{END}-{COUNT}_{noise_level}.png\"\n",
    "    - f\"MAP_model_posterior_{system_name}_l1-{l1_param_val}_l2-{l2_param_val}_{START}-{END}-{COUNT}_{noise_level}.png\""
   ]
  },
  {
   "cell_type": "markdown",
   "id": "42f61caa",
   "metadata": {},
   "source": [
    "#### Notes on relevant metrics / summaries / statistics\n",
    "-  "
   ]
  },
  {
   "cell_type": "code",
   "execution_count": null,
   "id": "c548ab5c",
   "metadata": {},
   "outputs": [],
   "source": []
  }
 ],
 "metadata": {
  "kernelspec": {
   "display_name": "sage3_129",
   "language": "python",
   "name": "python3"
  },
  "language_info": {
   "codemirror_mode": {
    "name": "ipython",
    "version": 3
   },
   "file_extension": ".py",
   "mimetype": "text/x-python",
   "name": "python",
   "nbconvert_exporter": "python",
   "pygments_lexer": "ipython3",
   "version": "3.12.9"
  }
 },
 "nbformat": 4,
 "nbformat_minor": 5
}
